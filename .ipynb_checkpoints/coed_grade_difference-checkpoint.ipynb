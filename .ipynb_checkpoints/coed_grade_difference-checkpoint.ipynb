{
 "cells": [
  {
   "cell_type": "code",
   "execution_count": 2,
   "metadata": {},
   "outputs": [],
   "source": [
    "import pandas as pd\n",
    "import numpy as np\n",
    "import time \n",
    "import os\n",
    "\n",
    "import matplotlib.pyplot as plt\n",
    "import seaborn as sns\n",
    "\n",
    "from IPython.display import display\n",
    "pd.options.display.max_columns = 50"
   ]
  },
  {
   "cell_type": "markdown",
   "metadata": {},
   "source": [
    "메인으로 사용하고 있는 교육과정평가원은 학생 배경 정보에 대해, 2020년도 수능을 본 고3 학생들의 입학년도인 2017년 데이터를 사용했다고 밝혔다. \n",
    "<br>=>그러나 학교알리미에서 제공하는 학교기본정보 데이터셋은 2018년 부터 존재함. 하지만 1년 사이에 학교 수가 많이 달라지지 않았다면 전체적 경향성 분석에 큰 영향을 미치지는 않을 것이다. 먼저 2018년과 2020년 자료를 비교해보자\n",
    "<br> => 2018년에 전국 고등학교 2360개, 2020년에 2366개로 2년 사이에도 5개 차이. 이 정도면 2017->2018년에도 고등학교 수에 큰 차이 나지 않았을 듯하다. 2017년 대신 2018년 자료를 쓰자. "
   ]
  },
  {
   "cell_type": "code",
   "execution_count": 36,
   "metadata": {
    "scrolled": true
   },
   "outputs": [
    {
     "name": "stdout",
     "output_type": "stream",
     "text": [
      "(2366, 26)\n"
     ]
    },
    {
     "data": {
      "text/html": [
       "<div>\n",
       "<style scoped>\n",
       "    .dataframe tbody tr th:only-of-type {\n",
       "        vertical-align: middle;\n",
       "    }\n",
       "\n",
       "    .dataframe tbody tr th {\n",
       "        vertical-align: top;\n",
       "    }\n",
       "\n",
       "    .dataframe thead th {\n",
       "        text-align: right;\n",
       "    }\n",
       "</style>\n",
       "<table border=\"1\" class=\"dataframe\">\n",
       "  <thead>\n",
       "    <tr style=\"text-align: right;\">\n",
       "      <th></th>\n",
       "      <th>시도교육청</th>\n",
       "      <th>지역교육청</th>\n",
       "      <th>지역</th>\n",
       "      <th>정보공시 학교코드</th>\n",
       "      <th>학교명</th>\n",
       "      <th>학교급코드</th>\n",
       "      <th>설립구분</th>\n",
       "      <th>학교특성</th>\n",
       "      <th>분교여부</th>\n",
       "      <th>설립유형</th>\n",
       "      <th>주야구분</th>\n",
       "      <th>개교기념일</th>\n",
       "      <th>설립일</th>\n",
       "      <th>법정동코드</th>\n",
       "      <th>주소내역</th>\n",
       "      <th>상세주소내역</th>\n",
       "      <th>우편번호</th>\n",
       "      <th>학교도로명 우편번호</th>\n",
       "      <th>학교도로명 주소</th>\n",
       "      <th>학교도로명 상세주소</th>\n",
       "      <th>위도</th>\n",
       "      <th>경도</th>\n",
       "      <th>전화번호</th>\n",
       "      <th>팩스번호</th>\n",
       "      <th>홈페이지 주소</th>\n",
       "      <th>남녀공학 구분</th>\n",
       "    </tr>\n",
       "  </thead>\n",
       "  <tbody>\n",
       "    <tr>\n",
       "      <th>0</th>\n",
       "      <td>서울특별시교육청</td>\n",
       "      <td>교육부</td>\n",
       "      <td>서울특별시 강남구</td>\n",
       "      <td>S000003540</td>\n",
       "      <td>국립국악고등학교</td>\n",
       "      <td>4</td>\n",
       "      <td>국립</td>\n",
       "      <td>특수목적고등학교</td>\n",
       "      <td>N</td>\n",
       "      <td>단설</td>\n",
       "      <td>주간</td>\n",
       "      <td>19720909</td>\n",
       "      <td>19720711</td>\n",
       "      <td>1168010300</td>\n",
       "      <td>서울특별시 강남구 개포동</td>\n",
       "      <td>1272번지.</td>\n",
       "      <td>135962</td>\n",
       "      <td>06311</td>\n",
       "      <td>서울특별시 강남구 개포로22길 65</td>\n",
       "      <td>, (개포동, 국립국악고등학교)</td>\n",
       "      <td>37.47623</td>\n",
       "      <td>127.051476</td>\n",
       "      <td>02-3460-0500</td>\n",
       "      <td>02-3460-0555</td>\n",
       "      <td>http://gugak.sen.hs.kr</td>\n",
       "      <td>남녀공학</td>\n",
       "    </tr>\n",
       "  </tbody>\n",
       "</table>\n",
       "</div>"
      ],
      "text/plain": [
       "      시도교육청 지역교육청         지역   정보공시 학교코드       학교명  학교급코드 설립구분      학교특성 분교여부  \\\n",
       "0  서울특별시교육청   교육부  서울특별시 강남구  S000003540  국립국악고등학교      4   국립  특수목적고등학교    N   \n",
       "\n",
       "  설립유형 주야구분     개교기념일       설립일       법정동코드           주소내역   상세주소내역    우편번호  \\\n",
       "0   단설   주간  19720909  19720711  1168010300  서울특별시 강남구 개포동  1272번지.  135962   \n",
       "\n",
       "  학교도로명 우편번호             학교도로명 주소         학교도로명 상세주소        위도          경도  \\\n",
       "0      06311  서울특별시 강남구 개포로22길 65  , (개포동, 국립국악고등학교)  37.47623  127.051476   \n",
       "\n",
       "           전화번호          팩스번호                 홈페이지 주소 남녀공학 구분  \n",
       "0  02-3460-0500  02-3460-0555  http://gugak.sen.hs.kr    남녀공학  "
      ]
     },
     "execution_count": 36,
     "metadata": {},
     "output_type": "execute_result"
    }
   ],
   "source": [
    "raw_2020 = pd.read_csv(\"./coed_grade/2020년도_학교기본정보.csv\")\n",
    "print(raw_2020.shape)\n",
    "raw_2020.head(1)"
   ]
  },
  {
   "cell_type": "code",
   "execution_count": 122,
   "metadata": {},
   "outputs": [
    {
     "data": {
      "text/plain": [
       "array([4], dtype=int64)"
      ]
     },
     "execution_count": 122,
     "metadata": {},
     "output_type": "execute_result"
    }
   ],
   "source": [
    "raw_2020['학교급코드'].unique()"
   ]
  },
  {
   "cell_type": "code",
   "execution_count": 4,
   "metadata": {},
   "outputs": [
    {
     "data": {
      "text/plain": [
       "(2360, 26)"
      ]
     },
     "execution_count": 4,
     "metadata": {},
     "output_type": "execute_result"
    }
   ],
   "source": [
    "raw = pd.read_csv('./coed_grade/2018년도_학교기본정보.csv')\n",
    "raw.shape"
   ]
  },
  {
   "cell_type": "code",
   "execution_count": 38,
   "metadata": {},
   "outputs": [
    {
     "data": {
      "text/plain": [
       "Index(['시도교육청', '지역교육청', '지역', '정보공시 학교코드', '학교명', '학교급코드', '설립구분', '학교특성',\n",
       "       '분교여부', '설립유형', '주야구분', '개교기념일', '설립일', '법정동코드', '주소내역', '상세주소내역',\n",
       "       '우편번호', '학교도로명 우편번호', '학교도로명 주소', '학교도로명 상세주소', '위도', '경도', '전화번호',\n",
       "       '팩스번호', '홈페이지 주소', '남녀공학 구분'],\n",
       "      dtype='object')"
      ]
     },
     "execution_count": 38,
     "metadata": {},
     "output_type": "execute_result"
    }
   ],
   "source": [
    "raw.columns"
   ]
  },
  {
   "cell_type": "code",
   "execution_count": 39,
   "metadata": {},
   "outputs": [
    {
     "name": "stdout",
     "output_type": "stream",
     "text": [
      "<class 'pandas.core.frame.DataFrame'>\n",
      "RangeIndex: 2360 entries, 0 to 2359\n",
      "Data columns (total 26 columns):\n",
      " #   Column      Non-Null Count  Dtype  \n",
      "---  ------      --------------  -----  \n",
      " 0   시도교육청       2360 non-null   object \n",
      " 1   지역교육청       2360 non-null   object \n",
      " 2   지역          2360 non-null   object \n",
      " 3   정보공시 학교코드   2360 non-null   object \n",
      " 4   학교명         2360 non-null   object \n",
      " 5   학교급코드       2360 non-null   int64  \n",
      " 6   설립구분        2360 non-null   object \n",
      " 7   학교특성        2360 non-null   object \n",
      " 8   분교여부        2360 non-null   object \n",
      " 9   설립유형        2360 non-null   object \n",
      " 10  주야구분        2360 non-null   object \n",
      " 11  개교기념일       2360 non-null   int64  \n",
      " 12  설립일         2360 non-null   int64  \n",
      " 13  법정동코드       2360 non-null   int64  \n",
      " 14  주소내역        2360 non-null   object \n",
      " 15  상세주소내역      2360 non-null   object \n",
      " 16  우편번호        2318 non-null   object \n",
      " 17  학교도로명 우편번호  2360 non-null   object \n",
      " 18  학교도로명 주소    2360 non-null   object \n",
      " 19  학교도로명 상세주소  2359 non-null   object \n",
      " 20  위도          2360 non-null   float64\n",
      " 21  경도          2360 non-null   float64\n",
      " 22  전화번호        2360 non-null   object \n",
      " 23  팩스번호        2360 non-null   object \n",
      " 24  홈페이지 주소     2358 non-null   object \n",
      " 25  남녀공학 구분     2360 non-null   object \n",
      "dtypes: float64(2), int64(4), object(20)\n",
      "memory usage: 479.5+ KB\n"
     ]
    }
   ],
   "source": [
    "raw.info()"
   ]
  },
  {
   "cell_type": "markdown",
   "metadata": {},
   "source": [
    " 일단 카테고리 변수에 대해 파악을 하자. \n",
    " - `설립구분`이랑 `설립유형`은 어떻게 다른지?\n",
    " - 지역 구분은 몇 개로 되어있는지?\n",
    " - 고등학교도 주간이 아닌 경우도 있나? "
   ]
  },
  {
   "cell_type": "code",
   "execution_count": 40,
   "metadata": {},
   "outputs": [
    {
     "name": "stdout",
     "output_type": "stream",
     "text": [
      "시도교육청\n",
      "['서울특별시교육청' '부산광역시교육청' '대구광역시교육청' '인천광역시교육청' '광주광역시교육청' '대전광역시교육청'\n",
      " '울산광역시교육청' '세종특별자치시교육청' '경기도교육청' '강원도교육청' '충청북도교육청' '충청남도교육청' '전라북도교육청'\n",
      " '전라남도교육청' '경상북도교육청' '경상남도교육청' '제주특별자치도교육청']\n",
      "지역교육청\n",
      "['교육부' '서울특별시교육청' '부산광역시교육청' '대구광역시교육청' '인천광역시교육청' '광주광역시교육청' '대전광역시교육청'\n",
      " '울산광역시교육청' '세종특별자치시교육청' '경기도교육청' '강원도교육청' '충청북도교육청' '충청남도교육청' '전라북도교육청'\n",
      " '전라남도교육청' '경상북도교육청' '경상남도교육청' '제주특별자치도교육청']\n",
      "설립구분\n",
      "['국립' '공립' '사립']\n",
      "학교특성\n",
      "['특수목적고등학교' '일반고등학교' '자율고등학교' '특성화고등학교']\n",
      "분교여부\n",
      "['N']\n",
      "설립유형\n",
      "['단설' '부설' '부속' '병설']\n",
      "주야구분\n",
      "['주간' '주야간']\n",
      "남녀공학 구분\n",
      "['남녀공학' '남' '녀']\n"
     ]
    }
   ],
   "source": [
    "categorical_vars = ['시도교육청','지역교육청','설립구분','학교특성','분교여부','설립유형','주야구분','남녀공학 구분']\n",
    "\n",
    "for var in categorical_vars:\n",
    "    print(var)\n",
    "    print(raw[var].unique())"
   ]
  },
  {
   "cell_type": "markdown",
   "metadata": {},
   "source": [
    "설립구분은 흔히 말하는 사립 / 국공립 구분이고\n",
    "<br>설립유형은 \\~~학교 부설 고등학교 같은 것들. 정확한 구분은 찾아보자. 병설 부설 듣기는 했어도 구체적인 차이는 몰랐네.\n",
    "\n",
    "관련해서 누군가 국민신문고에 질문을 했고, 이에 대한 교육과학기술부의 답변.\n",
    "\n",
    "\"귀하께서 언급하신 바와 같이 행정기관의 조직과 정원에 관한 통칙 제2조에는 \"부속기관\"을 행정권의 직접적인 행사를 임무로 하는 기관에 부속하여 그 기관을 지원하는 행정기관으로 정의하고 있습니다.\n",
    "그러나, 고등교육법, 국립학교 설치령 등에는 부속시설, 부설학교 등 표현을 조금씩 다르게 쓰고 있는 경우도 있습니다.\n",
    "귀하께서도 아시다시피 통상적으로 `부속이라 함은 딸려서 붙은 형태를 말하고, 부설은 부속하여 설치된 것을 말합니다.`\n",
    "법령마다 용어의 사용에 일부 차이가 있기는 하지만 `통상적으로 기관이나 시설앞에는 부속`을, `학교앞에는 부설을 사용하는 것이 일반적`으로 보입니다.(고등교육법 등 교육관련 법령은 통상적으로 학교 설립과 관련한 표현을 부설로 씀)\n",
    "즉 부설학교는 기관에 부속하여 그 기관을 지원하는 역할이라기 보다는 설립상으로 딸려서 붙어있는 형태이므로 부설이라는 표현을 쓰는 것으로 판단됩니다.\"\n",
    "\n",
    "=> 결론: 부설과 부속은 의미상 같다.\n",
    "\n",
    "그럼 단설과 병설 차이는? 고등학교는 병설이 거의 없는 것 같고, 유치원 중 병설이 많은데 그 차이에 대한 질문과 부산광역시교육청의 답변\n",
    "\n",
    "- 단설유치원 : 단독, 독립적으로 운영되는 유치원 -> 별도 원장 배치 \n",
    "- 병설유치원 : 병설된 학교의 인적, 물적, 자원을 공유하며 유아교육법 제9조(유치원의 병설)에 의거 초.중등교육법 제2조(학교의 종류)에 해당하는 학교에 병설되는 유치원-> 초등학교의 장이 원장 겸임\n",
    "\n",
    "유치원의 경우 규모가 작아서 옆의 초중고 부지의 일부에 같이 설립되어 있는 경우가 많은듯. 고등학교는?"
   ]
  },
  {
   "cell_type": "markdown",
   "metadata": {},
   "source": [
    "### 1. 단성/공학 고등학교의 설립 주체 구분"
   ]
  },
  {
   "cell_type": "code",
   "execution_count": 153,
   "metadata": {},
   "outputs": [
    {
     "data": {
      "text/plain": [
       "설립구분  남녀공학 구분\n",
       "공립    남           167\n",
       "      남녀공학       1079\n",
       "      녀           149\n",
       "국립    남             1\n",
       "      남녀공학         17\n",
       "사립    남           235\n",
       "      남녀공학        437\n",
       "      녀           275\n",
       "Name: 학교명, dtype: int64"
      ]
     },
     "execution_count": 153,
     "metadata": {},
     "output_type": "execute_result"
    }
   ],
   "source": [
    "used_cols = ['정보공시 학교코드','학교명','학교특성', '설립구분','학교특성','설립유형','남녀공학 구분']\n",
    "\n",
    "found_subj = raw[used_cols]\n",
    "\n",
    "found_subj.groupby(['설립구분','남녀공학 구분'])['학교명'].count()"
   ]
  },
  {
   "cell_type": "markdown",
   "metadata": {},
   "source": []
  },
  {
   "cell_type": "markdown",
   "metadata": {},
   "source": [
    "### 2. 단성/공학 고등학교의 지역 규모\n",
    "이건 대도시/중소도시/읍면 지역의 구분이 무엇인지를 먼저 알아내야 한다.\n",
    "언뜻 생각했을 때는 특별시, 광역시를 대도시라고 했나 봤는데 값이 좀 다르다. 근데 이 구분은 어디에서도 찾을 수가 없네..\n",
    "- 특별시+광역시: 671\n",
    "- 대도시: 640\n",
    "\n",
    "교육통계서비스에서 제공하는 지역규모별 학생수 데이터 설명을 보니, \n",
    "- 시: 특별/광역시를 제외한 모든 시지역 \n",
    "- 행정구분이 중복되는 경우 해당 기관 주소의 가장 하부 행정단위로 지역을 구분. <br>예) xx시 oo읍 -> 읍지역, oo광역시 xx면 -> 면지역\n",
    "\n",
    "한다고 되어있다.\n",
    "\n",
    "읍면지역까지 확인하려면 상세 주소를 보는 수밖에 없는 건가. "
   ]
  },
  {
   "cell_type": "code",
   "execution_count": 168,
   "metadata": {
    "scrolled": true
   },
   "outputs": [
    {
     "data": {
      "text/html": [
       "<div>\n",
       "<style scoped>\n",
       "    .dataframe tbody tr th:only-of-type {\n",
       "        vertical-align: middle;\n",
       "    }\n",
       "\n",
       "    .dataframe tbody tr th {\n",
       "        vertical-align: top;\n",
       "    }\n",
       "\n",
       "    .dataframe thead th {\n",
       "        text-align: right;\n",
       "    }\n",
       "</style>\n",
       "<table border=\"1\" class=\"dataframe\">\n",
       "  <thead>\n",
       "    <tr style=\"text-align: right;\">\n",
       "      <th></th>\n",
       "      <th>지역</th>\n",
       "      <th>주소내역</th>\n",
       "    </tr>\n",
       "  </thead>\n",
       "  <tbody>\n",
       "    <tr>\n",
       "      <th>2004</th>\n",
       "      <td>경상북도 경산시</td>\n",
       "      <td>경상북도 경산시 하양읍 도리리</td>\n",
       "    </tr>\n",
       "    <tr>\n",
       "      <th>2197</th>\n",
       "      <td>경상남도 창원시 마산합포구</td>\n",
       "      <td>경상남도 창원시 마산합포구 신월동</td>\n",
       "    </tr>\n",
       "    <tr>\n",
       "      <th>242</th>\n",
       "      <td>서울특별시 동대문구</td>\n",
       "      <td>서울특별시 동대문구 제기동</td>\n",
       "    </tr>\n",
       "    <tr>\n",
       "      <th>1381</th>\n",
       "      <td>강원도 철원군</td>\n",
       "      <td>강원도 철원군 서면 와수리</td>\n",
       "    </tr>\n",
       "    <tr>\n",
       "      <th>54</th>\n",
       "      <td>서울특별시 서초구</td>\n",
       "      <td>서울특별시 서초구 방배동</td>\n",
       "    </tr>\n",
       "    <tr>\n",
       "      <th>959</th>\n",
       "      <td>경기도 파주시</td>\n",
       "      <td>경기도 파주시 파주읍 봉서리</td>\n",
       "    </tr>\n",
       "    <tr>\n",
       "      <th>887</th>\n",
       "      <td>경기도 수원시 권선구</td>\n",
       "      <td>경기도 수원시 권선구 당수동</td>\n",
       "    </tr>\n",
       "    <tr>\n",
       "      <th>1329</th>\n",
       "      <td>경기도 화성시</td>\n",
       "      <td>경기도 화성시 반송동</td>\n",
       "    </tr>\n",
       "    <tr>\n",
       "      <th>986</th>\n",
       "      <td>경기도 김포시</td>\n",
       "      <td>경기도 김포시 사우동</td>\n",
       "    </tr>\n",
       "    <tr>\n",
       "      <th>2173</th>\n",
       "      <td>경상남도 김해시</td>\n",
       "      <td>경상남도 김해시 대성동</td>\n",
       "    </tr>\n",
       "    <tr>\n",
       "      <th>1039</th>\n",
       "      <td>경기도 동두천시</td>\n",
       "      <td>경기도 동두천시 안흥동</td>\n",
       "    </tr>\n",
       "    <tr>\n",
       "      <th>2171</th>\n",
       "      <td>경상남도 김해시</td>\n",
       "      <td>경상남도 김해시 삼정동</td>\n",
       "    </tr>\n",
       "    <tr>\n",
       "      <th>891</th>\n",
       "      <td>경기도 의정부시</td>\n",
       "      <td>경기도 의정부시 가능동</td>\n",
       "    </tr>\n",
       "    <tr>\n",
       "      <th>178</th>\n",
       "      <td>서울특별시 강남구</td>\n",
       "      <td>서울특별시 강남구 자곡동</td>\n",
       "    </tr>\n",
       "    <tr>\n",
       "      <th>1551</th>\n",
       "      <td>충청북도 청주시 흥덕구</td>\n",
       "      <td>충청북도 청주시 흥덕구 복대동</td>\n",
       "    </tr>\n",
       "  </tbody>\n",
       "</table>\n",
       "</div>"
      ],
      "text/plain": [
       "                  지역                주소내역\n",
       "2004        경상북도 경산시    경상북도 경산시 하양읍 도리리\n",
       "2197  경상남도 창원시 마산합포구  경상남도 창원시 마산합포구 신월동\n",
       "242       서울특별시 동대문구      서울특별시 동대문구 제기동\n",
       "1381         강원도 철원군      강원도 철원군 서면 와수리\n",
       "54         서울특별시 서초구       서울특별시 서초구 방배동\n",
       "959          경기도 파주시     경기도 파주시 파주읍 봉서리\n",
       "887      경기도 수원시 권선구     경기도 수원시 권선구 당수동\n",
       "1329         경기도 화성시         경기도 화성시 반송동\n",
       "986          경기도 김포시         경기도 김포시 사우동\n",
       "2173        경상남도 김해시        경상남도 김해시 대성동\n",
       "1039        경기도 동두천시        경기도 동두천시 안흥동\n",
       "2171        경상남도 김해시        경상남도 김해시 삼정동\n",
       "891         경기도 의정부시        경기도 의정부시 가능동\n",
       "178        서울특별시 강남구       서울특별시 강남구 자곡동\n",
       "1551    충청북도 청주시 흥덕구    충청북도 청주시 흥덕구 복대동"
      ]
     },
     "execution_count": 168,
     "metadata": {},
     "output_type": "execute_result"
    }
   ],
   "source": [
    "raw[['지역','주소내역']].sample(15)"
   ]
  },
  {
   "cell_type": "markdown",
   "metadata": {},
   "source": [
    "지역은 시, 군, 구까지, 주소내역은 동, 읍, 면, 리, 가(거리) 까지 보여준다. 읍면지역인지 판단하려면 '주소내역'을 보자."
   ]
  },
  {
   "cell_type": "code",
   "execution_count": 10,
   "metadata": {},
   "outputs": [
    {
     "data": {
      "text/plain": [
       "시        867\n",
       "대도시      865\n",
       "읍면 지역    628\n",
       "Name: region_scale, dtype: int64"
      ]
     },
     "execution_count": 10,
     "metadata": {},
     "output_type": "execute_result"
    }
   ],
   "source": [
    "# 지역 규모 필드를 만들어보자\n",
    "\n",
    "raw['address_split'] = raw['주소내역'].apply(lambda x: x.split())\n",
    "\n",
    "# 먼저 광역시는 대도시로 바꿔주자. 주소내역에서 마지막 단위의 마지막 글자를 보자. 읍면리로 끝나면 읍면지역 나머지는 시. \n",
    "large_city = ['서울특별시','부산광역시','대구광역시','인천광역시','광주광역시','대전광역시','울산광역시']\n",
    "raw['region_scale'] = raw['address_split'].apply(lambda x: '대도시' if x[0] in large_city else ('읍면 지역' if x[-1][-1] in ['읍','면','리'] else '시'))\n",
    "\n",
    "# raw[raw['region_scale']=='읍면'][['region_scale','address_split','지역']]\n",
    "raw['region_scale'].value_counts()"
   ]
  },
  {
   "cell_type": "code",
   "execution_count": 11,
   "metadata": {},
   "outputs": [
    {
     "data": {
      "text/plain": [
       "region_scale  남녀공학 구분\n",
       "대도시           남          214\n",
       "              남녀공학       439\n",
       "              녀          212\n",
       "시             남          149\n",
       "              남녀공학       558\n",
       "              녀          160\n",
       "읍면 지역         남           40\n",
       "              남녀공학       536\n",
       "              녀           52\n",
       "Name: 정보공시 학교코드, dtype: int64"
      ]
     },
     "execution_count": 11,
     "metadata": {},
     "output_type": "execute_result"
    }
   ],
   "source": [
    "raw.groupby(['region_scale','남녀공학 구분'])['정보공시 학교코드'].count()"
   ]
  },
  {
   "cell_type": "markdown",
   "metadata": {},
   "source": [
    "### 3. 단성/공학 고등학교의 행정구역별 구분"
   ]
  },
  {
   "cell_type": "code",
   "execution_count": 12,
   "metadata": {},
   "outputs": [
    {
     "data": {
      "text/html": [
       "<div>\n",
       "<style scoped>\n",
       "    .dataframe tbody tr th:only-of-type {\n",
       "        vertical-align: middle;\n",
       "    }\n",
       "\n",
       "    .dataframe tbody tr th {\n",
       "        vertical-align: top;\n",
       "    }\n",
       "\n",
       "    .dataframe thead th {\n",
       "        text-align: right;\n",
       "    }\n",
       "</style>\n",
       "<table border=\"1\" class=\"dataframe\">\n",
       "  <thead>\n",
       "    <tr style=\"text-align: right;\">\n",
       "      <th></th>\n",
       "      <th></th>\n",
       "      <th>정보공시 학교코드</th>\n",
       "      <th>학교명</th>\n",
       "    </tr>\n",
       "    <tr>\n",
       "      <th>지역</th>\n",
       "      <th>남녀공학 구분</th>\n",
       "      <th></th>\n",
       "      <th></th>\n",
       "    </tr>\n",
       "  </thead>\n",
       "  <tbody>\n",
       "    <tr>\n",
       "      <th rowspan=\"3\" valign=\"top\">강원도 강릉시</th>\n",
       "      <th>남</th>\n",
       "      <td>4</td>\n",
       "      <td>4</td>\n",
       "    </tr>\n",
       "    <tr>\n",
       "      <th>남녀공학</th>\n",
       "      <td>5</td>\n",
       "      <td>5</td>\n",
       "    </tr>\n",
       "    <tr>\n",
       "      <th>녀</th>\n",
       "      <td>2</td>\n",
       "      <td>2</td>\n",
       "    </tr>\n",
       "    <tr>\n",
       "      <th>강원도 고성군</th>\n",
       "      <th>남녀공학</th>\n",
       "      <td>5</td>\n",
       "      <td>5</td>\n",
       "    </tr>\n",
       "    <tr>\n",
       "      <th>강원도 동해시</th>\n",
       "      <th>남</th>\n",
       "      <td>1</td>\n",
       "      <td>1</td>\n",
       "    </tr>\n",
       "    <tr>\n",
       "      <th>...</th>\n",
       "      <th>...</th>\n",
       "      <td>...</td>\n",
       "      <td>...</td>\n",
       "    </tr>\n",
       "    <tr>\n",
       "      <th rowspan=\"2\" valign=\"top\">충청북도 청주시 흥덕구</th>\n",
       "      <th>남</th>\n",
       "      <td>1</td>\n",
       "      <td>1</td>\n",
       "    </tr>\n",
       "    <tr>\n",
       "      <th>남녀공학</th>\n",
       "      <td>10</td>\n",
       "      <td>10</td>\n",
       "    </tr>\n",
       "    <tr>\n",
       "      <th rowspan=\"3\" valign=\"top\">충청북도 충주시</th>\n",
       "      <th>남</th>\n",
       "      <td>2</td>\n",
       "      <td>2</td>\n",
       "    </tr>\n",
       "    <tr>\n",
       "      <th>남녀공학</th>\n",
       "      <td>6</td>\n",
       "      <td>6</td>\n",
       "    </tr>\n",
       "    <tr>\n",
       "      <th>녀</th>\n",
       "      <td>3</td>\n",
       "      <td>3</td>\n",
       "    </tr>\n",
       "  </tbody>\n",
       "</table>\n",
       "<p>579 rows × 2 columns</p>\n",
       "</div>"
      ],
      "text/plain": [
       "                      정보공시 학교코드  학교명\n",
       "지역           남녀공학 구분                \n",
       "강원도 강릉시      남                4    4\n",
       "             남녀공학             5    5\n",
       "             녀                2    2\n",
       "강원도 고성군      남녀공학             5    5\n",
       "강원도 동해시      남                1    1\n",
       "...                         ...  ...\n",
       "충청북도 청주시 흥덕구 남                1    1\n",
       "             남녀공학            10   10\n",
       "충청북도 충주시     남                2    2\n",
       "             남녀공학             6    6\n",
       "             녀                3    3\n",
       "\n",
       "[579 rows x 2 columns]"
      ]
     },
     "metadata": {},
     "output_type": "display_data"
    }
   ],
   "source": [
    "used_cols_locale = ['정보공시 학교코드','학교명','지역','남녀공학 구분']\n",
    "\n",
    "locale = raw[used_cols_locale]\n",
    "display(locale.groupby(['지역','남녀공학 구분']).count())"
   ]
  },
  {
   "cell_type": "markdown",
   "metadata": {},
   "source": [
    "시나 구 구분까지 가니까 너무 많다. 일단 도 수준에서 지역 나누자"
   ]
  },
  {
   "cell_type": "code",
   "execution_count": 13,
   "metadata": {},
   "outputs": [
    {
     "data": {
      "text/plain": [
       "0         서울특별시\n",
       "1         서울특별시\n",
       "2         서울특별시\n",
       "3         서울특별시\n",
       "4         서울특별시\n",
       "         ...   \n",
       "2355    제주특별자치도\n",
       "2356    제주특별자치도\n",
       "2357    제주특별자치도\n",
       "2358    제주특별자치도\n",
       "2359    제주특별자치도\n",
       "Name: province, Length: 2360, dtype: object"
      ]
     },
     "execution_count": 13,
     "metadata": {},
     "output_type": "execute_result"
    }
   ],
   "source": [
    "raw['province'] = raw['지역'].apply(lambda x: x.split()[0])\n",
    "raw['province'] "
   ]
  },
  {
   "cell_type": "code",
   "execution_count": 14,
   "metadata": {
    "scrolled": true
   },
   "outputs": [
    {
     "data": {
      "text/html": [
       "<div>\n",
       "<style scoped>\n",
       "    .dataframe tbody tr th:only-of-type {\n",
       "        vertical-align: middle;\n",
       "    }\n",
       "\n",
       "    .dataframe tbody tr th {\n",
       "        vertical-align: top;\n",
       "    }\n",
       "\n",
       "    .dataframe thead th {\n",
       "        text-align: right;\n",
       "    }\n",
       "</style>\n",
       "<table border=\"1\" class=\"dataframe\">\n",
       "  <thead>\n",
       "    <tr style=\"text-align: right;\">\n",
       "      <th></th>\n",
       "      <th></th>\n",
       "      <th>정보공시 학교코드</th>\n",
       "    </tr>\n",
       "    <tr>\n",
       "      <th>province</th>\n",
       "      <th>남녀공학 구분</th>\n",
       "      <th></th>\n",
       "    </tr>\n",
       "  </thead>\n",
       "  <tbody>\n",
       "    <tr>\n",
       "      <th rowspan=\"3\" valign=\"top\">강원도</th>\n",
       "      <th>남</th>\n",
       "      <td>20</td>\n",
       "    </tr>\n",
       "    <tr>\n",
       "      <th>남녀공학</th>\n",
       "      <td>80</td>\n",
       "    </tr>\n",
       "    <tr>\n",
       "      <th>녀</th>\n",
       "      <td>18</td>\n",
       "    </tr>\n",
       "    <tr>\n",
       "      <th rowspan=\"2\" valign=\"top\">경기도</th>\n",
       "      <th>남</th>\n",
       "      <td>21</td>\n",
       "    </tr>\n",
       "    <tr>\n",
       "      <th>남녀공학</th>\n",
       "      <td>428</td>\n",
       "    </tr>\n",
       "    <tr>\n",
       "      <th>...</th>\n",
       "      <th>...</th>\n",
       "      <td>...</td>\n",
       "    </tr>\n",
       "    <tr>\n",
       "      <th rowspan=\"2\" valign=\"top\">충청남도</th>\n",
       "      <th>남녀공학</th>\n",
       "      <td>80</td>\n",
       "    </tr>\n",
       "    <tr>\n",
       "      <th>녀</th>\n",
       "      <td>23</td>\n",
       "    </tr>\n",
       "    <tr>\n",
       "      <th rowspan=\"3\" valign=\"top\">충청북도</th>\n",
       "      <th>남</th>\n",
       "      <td>10</td>\n",
       "    </tr>\n",
       "    <tr>\n",
       "      <th>남녀공학</th>\n",
       "      <td>62</td>\n",
       "    </tr>\n",
       "    <tr>\n",
       "      <th>녀</th>\n",
       "      <td>12</td>\n",
       "    </tr>\n",
       "  </tbody>\n",
       "</table>\n",
       "<p>51 rows × 1 columns</p>\n",
       "</div>"
      ],
      "text/plain": [
       "                  정보공시 학교코드\n",
       "province 남녀공학 구분           \n",
       "강원도      남               20\n",
       "         남녀공학            80\n",
       "         녀               18\n",
       "경기도      남               21\n",
       "         남녀공학           428\n",
       "...                     ...\n",
       "충청남도     남녀공학            80\n",
       "         녀               23\n",
       "충청북도     남               10\n",
       "         남녀공학            62\n",
       "         녀               12\n",
       "\n",
       "[51 rows x 1 columns]"
      ]
     },
     "metadata": {},
     "output_type": "display_data"
    }
   ],
   "source": [
    "used_cols_locale = ['정보공시 학교코드','남녀공학 구분','province']\n",
    "\n",
    "locale = raw[used_cols_locale]\n",
    "display(locale.groupby(['province','남녀공학 구분']).count())"
   ]
  },
  {
   "cell_type": "code",
   "execution_count": null,
   "metadata": {},
   "outputs": [],
   "source": []
  },
  {
   "cell_type": "code",
   "execution_count": null,
   "metadata": {},
   "outputs": [],
   "source": []
  },
  {
   "cell_type": "markdown",
   "metadata": {},
   "source": [
    "### 4. 일반고, 특목고, 자율고 등 학교 유형별로"
   ]
  },
  {
   "cell_type": "code",
   "execution_count": 84,
   "metadata": {},
   "outputs": [
    {
     "data": {
      "text/plain": [
       "Index(['시도교육청', '지역교육청', '지역', '정보공시 학교코드', '학교명', '학교급코드', '설립구분', '학교특성',\n",
       "       '분교여부', '설립유형', '주야구분', '개교기념일', '설립일', '법정동코드', '주소내역', '상세주소내역',\n",
       "       '우편번호', '학교도로명 우편번호', '학교도로명 주소', '학교도로명 상세주소', '위도', '경도', '전화번호',\n",
       "       '팩스번호', '홈페이지 주소', '남녀공학 구분', 'address_split', 'region_scale',\n",
       "       'province'],\n",
       "      dtype='object')"
      ]
     },
     "execution_count": 84,
     "metadata": {},
     "output_type": "execute_result"
    }
   ],
   "source": [
    "raw.columns"
   ]
  },
  {
   "cell_type": "code",
   "execution_count": 86,
   "metadata": {},
   "outputs": [
    {
     "data": {
      "text/plain": [
       "일반고등학교      1561\n",
       "특성화고등학교      499\n",
       "특수목적고등학교     154\n",
       "자율고등학교       146\n",
       "Name: 학교특성, dtype: int64"
      ]
     },
     "execution_count": 86,
     "metadata": {},
     "output_type": "execute_result"
    }
   ],
   "source": [
    "raw['학교특성'].value_counts()"
   ]
  },
  {
   "cell_type": "code",
   "execution_count": 108,
   "metadata": {
    "scrolled": false
   },
   "outputs": [],
   "source": [
    "# raw[raw['학교특성']=='특수목적고등학교']"
   ]
  },
  {
   "cell_type": "code",
   "execution_count": 96,
   "metadata": {},
   "outputs": [
    {
     "data": {
      "text/plain": [
       "80"
      ]
     },
     "execution_count": 96,
     "metadata": {},
     "output_type": "execute_result"
    }
   ],
   "source": [
    "raw[raw['학교명'].str.endswith('과학고등학교')]['학교명'].count()"
   ]
  },
  {
   "cell_type": "code",
   "execution_count": 99,
   "metadata": {},
   "outputs": [
    {
     "data": {
      "text/plain": [
       "31"
      ]
     },
     "execution_count": 99,
     "metadata": {},
     "output_type": "execute_result"
    }
   ],
   "source": [
    "raw[raw['학교명'].str.endswith('외국어고등학교')]['학교명'].count()"
   ]
  },
  {
   "cell_type": "code",
   "execution_count": 100,
   "metadata": {},
   "outputs": [
    {
     "data": {
      "text/plain": [
       "36"
      ]
     },
     "execution_count": 100,
     "metadata": {},
     "output_type": "execute_result"
    }
   ],
   "source": [
    "raw[raw['학교명'].str.endswith('예술고등학교')]['학교명'].count()"
   ]
  },
  {
   "cell_type": "code",
   "execution_count": 8,
   "metadata": {},
   "outputs": [
    {
     "data": {
      "text/plain": [
       "1568      공주마이스터고등학교\n",
       "501     대구농업마이스터고등학교\n",
       "2212       삼천포공업고등학교\n",
       "Name: 학교명, dtype: object"
      ]
     },
     "execution_count": 8,
     "metadata": {},
     "output_type": "execute_result"
    }
   ],
   "source": [
    "# 특수목적고이긴 하나 과고, 외고, 예고 아닌 학교는? => 공업고, 국제고, 마이스터고 등\n",
    "raw[(raw['학교특성']=='특수목적고등학교') & (~raw['학교명'].str.contains('과학고등학교|외국어고등학교|예술고등학교'))]['학교명'].sample(3)"
   ]
  },
  {
   "cell_type": "code",
   "execution_count": 107,
   "metadata": {
    "scrolled": false
   },
   "outputs": [
    {
     "data": {
      "text/plain": [
       "남녀공학    142\n",
       "남        10\n",
       "녀         2\n",
       "Name: 남녀공학 구분, dtype: int64"
      ]
     },
     "execution_count": 107,
     "metadata": {},
     "output_type": "execute_result"
    }
   ],
   "source": [
    "# 특목고의 남녀공학 여부\n",
    "raw[raw['학교특성']=='특수목적고등학교']['남녀공학 구분'].value_counts()"
   ]
  },
  {
   "cell_type": "code",
   "execution_count": 110,
   "metadata": {},
   "outputs": [
    {
     "data": {
      "text/plain": [
       "남녀공학    77\n",
       "남       54\n",
       "녀       15\n",
       "Name: 남녀공학 구분, dtype: int64"
      ]
     },
     "execution_count": 110,
     "metadata": {},
     "output_type": "execute_result"
    }
   ],
   "source": [
    "# 자율고의 남녀공학 여부\n",
    "raw[raw['학교특성']=='자율고등학교']['남녀공학 구분'].value_counts()"
   ]
  },
  {
   "cell_type": "code",
   "execution_count": 115,
   "metadata": {},
   "outputs": [
    {
     "data": {
      "text/html": [
       "<div>\n",
       "<style scoped>\n",
       "    .dataframe tbody tr th:only-of-type {\n",
       "        vertical-align: middle;\n",
       "    }\n",
       "\n",
       "    .dataframe tbody tr th {\n",
       "        vertical-align: top;\n",
       "    }\n",
       "\n",
       "    .dataframe thead th {\n",
       "        text-align: right;\n",
       "    }\n",
       "</style>\n",
       "<table border=\"1\" class=\"dataframe\">\n",
       "  <thead>\n",
       "    <tr style=\"text-align: right;\">\n",
       "      <th></th>\n",
       "      <th>시도교육청</th>\n",
       "      <th>지역교육청</th>\n",
       "      <th>지역</th>\n",
       "      <th>정보공시 학교코드</th>\n",
       "      <th>학교명</th>\n",
       "      <th>학교급코드</th>\n",
       "      <th>설립구분</th>\n",
       "      <th>학교특성</th>\n",
       "      <th>분교여부</th>\n",
       "      <th>설립유형</th>\n",
       "      <th>주야구분</th>\n",
       "      <th>개교기념일</th>\n",
       "      <th>설립일</th>\n",
       "      <th>법정동코드</th>\n",
       "      <th>주소내역</th>\n",
       "      <th>상세주소내역</th>\n",
       "      <th>우편번호</th>\n",
       "      <th>학교도로명 우편번호</th>\n",
       "      <th>학교도로명 주소</th>\n",
       "      <th>학교도로명 상세주소</th>\n",
       "      <th>위도</th>\n",
       "      <th>경도</th>\n",
       "      <th>전화번호</th>\n",
       "      <th>팩스번호</th>\n",
       "      <th>홈페이지 주소</th>\n",
       "      <th>남녀공학 구분</th>\n",
       "      <th>address_split</th>\n",
       "      <th>region_scale</th>\n",
       "      <th>province</th>\n",
       "    </tr>\n",
       "  </thead>\n",
       "  <tbody>\n",
       "    <tr>\n",
       "      <th>10</th>\n",
       "      <td>서울특별시교육청</td>\n",
       "      <td>서울특별시교육청</td>\n",
       "      <td>서울특별시 성북구</td>\n",
       "      <td>S010000377</td>\n",
       "      <td>경동고등학교</td>\n",
       "      <td>4</td>\n",
       "      <td>공립</td>\n",
       "      <td>자율고등학교</td>\n",
       "      <td>N</td>\n",
       "      <td>단설</td>\n",
       "      <td>주간</td>\n",
       "      <td>19400416</td>\n",
       "      <td>19400416</td>\n",
       "      <td>1129011300</td>\n",
       "      <td>서울특별시 성북구 삼선동3가</td>\n",
       "      <td>50.</td>\n",
       "      <td>136043</td>\n",
       "      <td>02870</td>\n",
       "      <td>서울특별시 성북구 보문로29길 49</td>\n",
       "      <td>(삼선동3가, 경동고등학교)</td>\n",
       "      <td>37.586200</td>\n",
       "      <td>127.014664</td>\n",
       "      <td>02-928-2353</td>\n",
       "      <td>02-926-7525</td>\n",
       "      <td>http://kyungdong.sen.hs.kr</td>\n",
       "      <td>남</td>\n",
       "      <td>[서울특별시, 성북구, 삼선동3가]</td>\n",
       "      <td>시</td>\n",
       "      <td>서울특별시</td>\n",
       "    </tr>\n",
       "    <tr>\n",
       "      <th>17</th>\n",
       "      <td>서울특별시교육청</td>\n",
       "      <td>서울특별시교육청</td>\n",
       "      <td>서울특별시 동대문구</td>\n",
       "      <td>S010000384</td>\n",
       "      <td>경희고등학교</td>\n",
       "      <td>4</td>\n",
       "      <td>사립</td>\n",
       "      <td>자율고등학교</td>\n",
       "      <td>N</td>\n",
       "      <td>병설</td>\n",
       "      <td>주간</td>\n",
       "      <td>19600518</td>\n",
       "      <td>19591212</td>\n",
       "      <td>1123010800</td>\n",
       "      <td>서울특별시 동대문구 회기동</td>\n",
       "      <td>경희대길 47(이문1-3).</td>\n",
       "      <td>130080</td>\n",
       "      <td>130701</td>\n",
       "      <td>서울특별시 동대문구 경희대로 26</td>\n",
       "      <td>(이문동)</td>\n",
       "      <td>37.594912</td>\n",
       "      <td>127.054904</td>\n",
       "      <td>966-3782</td>\n",
       "      <td>02-962-3643</td>\n",
       "      <td>http://www.kyungheeboy.hs.kr</td>\n",
       "      <td>남</td>\n",
       "      <td>[서울특별시, 동대문구, 회기동]</td>\n",
       "      <td>시</td>\n",
       "      <td>서울특별시</td>\n",
       "    </tr>\n",
       "    <tr>\n",
       "      <th>40</th>\n",
       "      <td>서울특별시교육청</td>\n",
       "      <td>서울특별시교육청</td>\n",
       "      <td>서울특별시 동대문구</td>\n",
       "      <td>S010000407</td>\n",
       "      <td>대광고등학교</td>\n",
       "      <td>4</td>\n",
       "      <td>사립</td>\n",
       "      <td>자율고등학교</td>\n",
       "      <td>N</td>\n",
       "      <td>단설</td>\n",
       "      <td>주간</td>\n",
       "      <td>19471025</td>\n",
       "      <td>19471125</td>\n",
       "      <td>1123010100</td>\n",
       "      <td>서울특별시 동대문구 신설동</td>\n",
       "      <td>53-3번지.</td>\n",
       "      <td>130110</td>\n",
       "      <td>02581</td>\n",
       "      <td>서울특별시 동대문구 안암로 6</td>\n",
       "      <td>, 대광고등학교 (신설동)</td>\n",
       "      <td>37.577939</td>\n",
       "      <td>127.024586</td>\n",
       "      <td>02-940-2202</td>\n",
       "      <td>02-926-3197</td>\n",
       "      <td>http://www.dgh.hs.kr</td>\n",
       "      <td>남</td>\n",
       "      <td>[서울특별시, 동대문구, 신설동]</td>\n",
       "      <td>시</td>\n",
       "      <td>서울특별시</td>\n",
       "    </tr>\n",
       "    <tr>\n",
       "      <th>57</th>\n",
       "      <td>서울특별시교육청</td>\n",
       "      <td>서울특별시교육청</td>\n",
       "      <td>서울특별시 종로구</td>\n",
       "      <td>S010000424</td>\n",
       "      <td>동성고등학교</td>\n",
       "      <td>4</td>\n",
       "      <td>사립</td>\n",
       "      <td>자율고등학교</td>\n",
       "      <td>N</td>\n",
       "      <td>단설</td>\n",
       "      <td>주간</td>\n",
       "      <td>19381208</td>\n",
       "      <td>19070910</td>\n",
       "      <td>1111016900</td>\n",
       "      <td>서울특별시 종로구 혜화동</td>\n",
       "      <td>90-7번지.</td>\n",
       "      <td>03083</td>\n",
       "      <td>03083</td>\n",
       "      <td>서울특별시 종로구 대학로 156</td>\n",
       "      <td>(혜화동,동성중고교)</td>\n",
       "      <td>37.584970</td>\n",
       "      <td>127.003098</td>\n",
       "      <td>02-3671-9100</td>\n",
       "      <td>02-765-8239</td>\n",
       "      <td>http://www.dongsung.hs.kr</td>\n",
       "      <td>남</td>\n",
       "      <td>[서울특별시, 종로구, 혜화동]</td>\n",
       "      <td>시</td>\n",
       "      <td>서울특별시</td>\n",
       "    </tr>\n",
       "    <tr>\n",
       "      <th>63</th>\n",
       "      <td>서울특별시교육청</td>\n",
       "      <td>서울특별시교육청</td>\n",
       "      <td>서울특별시 중랑구</td>\n",
       "      <td>S010000430</td>\n",
       "      <td>면목고등학교</td>\n",
       "      <td>4</td>\n",
       "      <td>공립</td>\n",
       "      <td>자율고등학교</td>\n",
       "      <td>N</td>\n",
       "      <td>단설</td>\n",
       "      <td>주간</td>\n",
       "      <td>19830420</td>\n",
       "      <td>19821130</td>\n",
       "      <td>1126010100</td>\n",
       "      <td>서울특별시 중랑구 면목동</td>\n",
       "      <td>30번지 .</td>\n",
       "      <td>02193</td>\n",
       "      <td>02193</td>\n",
       "      <td>서울특별시 중랑구 용마산로72길 36-14</td>\n",
       "      <td>(면목동,면목고등학교)</td>\n",
       "      <td>37.584781</td>\n",
       "      <td>127.096719</td>\n",
       "      <td>02-435-0002</td>\n",
       "      <td>02-435-0774</td>\n",
       "      <td>http://www.mmhs.hs.kr</td>\n",
       "      <td>남</td>\n",
       "      <td>[서울특별시, 중랑구, 면목동]</td>\n",
       "      <td>시</td>\n",
       "      <td>서울특별시</td>\n",
       "    </tr>\n",
       "    <tr>\n",
       "      <th>...</th>\n",
       "      <td>...</td>\n",
       "      <td>...</td>\n",
       "      <td>...</td>\n",
       "      <td>...</td>\n",
       "      <td>...</td>\n",
       "      <td>...</td>\n",
       "      <td>...</td>\n",
       "      <td>...</td>\n",
       "      <td>...</td>\n",
       "      <td>...</td>\n",
       "      <td>...</td>\n",
       "      <td>...</td>\n",
       "      <td>...</td>\n",
       "      <td>...</td>\n",
       "      <td>...</td>\n",
       "      <td>...</td>\n",
       "      <td>...</td>\n",
       "      <td>...</td>\n",
       "      <td>...</td>\n",
       "      <td>...</td>\n",
       "      <td>...</td>\n",
       "      <td>...</td>\n",
       "      <td>...</td>\n",
       "      <td>...</td>\n",
       "      <td>...</td>\n",
       "      <td>...</td>\n",
       "      <td>...</td>\n",
       "      <td>...</td>\n",
       "      <td>...</td>\n",
       "    </tr>\n",
       "    <tr>\n",
       "      <th>2171</th>\n",
       "      <td>경상남도교육청</td>\n",
       "      <td>경상남도교육청</td>\n",
       "      <td>경상남도 김해시</td>\n",
       "      <td>S160000511</td>\n",
       "      <td>김해고등학교</td>\n",
       "      <td>4</td>\n",
       "      <td>공립</td>\n",
       "      <td>자율고등학교</td>\n",
       "      <td>N</td>\n",
       "      <td>단설</td>\n",
       "      <td>주간</td>\n",
       "      <td>19740105</td>\n",
       "      <td>19740105</td>\n",
       "      <td>4825011700</td>\n",
       "      <td>경상남도 김해시 삼정동</td>\n",
       "      <td>267-34.</td>\n",
       "      <td>621912</td>\n",
       "      <td>50934</td>\n",
       "      <td>경상남도 김해시 활천로24번길 29</td>\n",
       "      <td>(삼정동, 김해고등학교)</td>\n",
       "      <td>35.231298</td>\n",
       "      <td>128.896636</td>\n",
       "      <td>055-335-3306</td>\n",
       "      <td>055-321-1491</td>\n",
       "      <td>http://gimhae-h.gne.go.kr/</td>\n",
       "      <td>남</td>\n",
       "      <td>[경상남도, 김해시, 삼정동]</td>\n",
       "      <td>시</td>\n",
       "      <td>경상남도</td>\n",
       "    </tr>\n",
       "    <tr>\n",
       "      <th>2188</th>\n",
       "      <td>경상남도교육청</td>\n",
       "      <td>경상남도교육청</td>\n",
       "      <td>경상남도 창원시 마산합포구</td>\n",
       "      <td>S160000546</td>\n",
       "      <td>마산고등학교</td>\n",
       "      <td>4</td>\n",
       "      <td>공립</td>\n",
       "      <td>자율고등학교</td>\n",
       "      <td>N</td>\n",
       "      <td>단설</td>\n",
       "      <td>주간</td>\n",
       "      <td>19360411</td>\n",
       "      <td>19360316</td>\n",
       "      <td>4812512800</td>\n",
       "      <td>경상남도 창원시 마산합포구 완월동</td>\n",
       "      <td>27-3.</td>\n",
       "      <td>631861</td>\n",
       "      <td>51259</td>\n",
       "      <td>경상남도 창원시 마산합포구 심온길 33</td>\n",
       "      <td>(완월동, 마산고등학교)</td>\n",
       "      <td>35.200865</td>\n",
       "      <td>128.561723</td>\n",
       "      <td>055-240-3500</td>\n",
       "      <td>055-240-3505</td>\n",
       "      <td>http://masan-h.gne.go.kr</td>\n",
       "      <td>남</td>\n",
       "      <td>[경상남도, 창원시, 마산합포구, 완월동]</td>\n",
       "      <td>시</td>\n",
       "      <td>경상남도</td>\n",
       "    </tr>\n",
       "    <tr>\n",
       "      <th>2227</th>\n",
       "      <td>경상남도교육청</td>\n",
       "      <td>경상남도교육청</td>\n",
       "      <td>경상남도 양산시</td>\n",
       "      <td>S160000618</td>\n",
       "      <td>양산고등학교</td>\n",
       "      <td>4</td>\n",
       "      <td>공립</td>\n",
       "      <td>자율고등학교</td>\n",
       "      <td>N</td>\n",
       "      <td>단설</td>\n",
       "      <td>주간</td>\n",
       "      <td>19390331</td>\n",
       "      <td>19390331</td>\n",
       "      <td>4833010400</td>\n",
       "      <td>경상남도 양산시 북부동</td>\n",
       "      <td>255.</td>\n",
       "      <td>626800</td>\n",
       "      <td>50617</td>\n",
       "      <td>경상남도 양산시 호국학도병길 2</td>\n",
       "      <td>(북부동)</td>\n",
       "      <td>35.300000</td>\n",
       "      <td>129.000000</td>\n",
       "      <td>055-384-9502</td>\n",
       "      <td>055-384-9501</td>\n",
       "      <td>http://www.yangsan-h.gne.go.kr</td>\n",
       "      <td>남</td>\n",
       "      <td>[경상남도, 양산시, 북부동]</td>\n",
       "      <td>시</td>\n",
       "      <td>경상남도</td>\n",
       "    </tr>\n",
       "    <tr>\n",
       "      <th>2244</th>\n",
       "      <td>경상남도교육청</td>\n",
       "      <td>경상남도교육청</td>\n",
       "      <td>경상남도 진주시</td>\n",
       "      <td>S160000660</td>\n",
       "      <td>진주고등학교</td>\n",
       "      <td>4</td>\n",
       "      <td>공립</td>\n",
       "      <td>자율고등학교</td>\n",
       "      <td>N</td>\n",
       "      <td>단설</td>\n",
       "      <td>주간</td>\n",
       "      <td>19250424</td>\n",
       "      <td>19250424</td>\n",
       "      <td>4817011400</td>\n",
       "      <td>경상남도 진주시 상봉동</td>\n",
       "      <td>987.</td>\n",
       "      <td>660050</td>\n",
       "      <td>52747</td>\n",
       "      <td>경상남도 진주시 의곡길 29</td>\n",
       "      <td>(상봉동, 진주고등학교)</td>\n",
       "      <td>35.201002</td>\n",
       "      <td>128.080802</td>\n",
       "      <td>055-746-2613</td>\n",
       "      <td>055-746-5902</td>\n",
       "      <td>http://jinju-h.gne.go.kr/</td>\n",
       "      <td>남</td>\n",
       "      <td>[경상남도, 진주시, 상봉동]</td>\n",
       "      <td>시</td>\n",
       "      <td>경상남도</td>\n",
       "    </tr>\n",
       "    <tr>\n",
       "      <th>2275</th>\n",
       "      <td>경상남도교육청</td>\n",
       "      <td>경상남도교육청</td>\n",
       "      <td>경상남도 창원시 의창구</td>\n",
       "      <td>S160000701</td>\n",
       "      <td>창원중앙고등학교</td>\n",
       "      <td>4</td>\n",
       "      <td>공립</td>\n",
       "      <td>자율고등학교</td>\n",
       "      <td>N</td>\n",
       "      <td>단설</td>\n",
       "      <td>주간</td>\n",
       "      <td>19831230</td>\n",
       "      <td>19831230</td>\n",
       "      <td>4812112800</td>\n",
       "      <td>경상남도 창원시 의창구 용호동</td>\n",
       "      <td>71.</td>\n",
       "      <td>641041</td>\n",
       "      <td>51437</td>\n",
       "      <td>경상남도 창원시 의창구 용호로 16</td>\n",
       "      <td>(용호동)</td>\n",
       "      <td>35.231740</td>\n",
       "      <td>128.677927</td>\n",
       "      <td>055-239-3100</td>\n",
       "      <td>055-284-7302</td>\n",
       "      <td>http://cwjungang-h.gne.go.kr</td>\n",
       "      <td>남</td>\n",
       "      <td>[경상남도, 창원시, 의창구, 용호동]</td>\n",
       "      <td>시</td>\n",
       "      <td>경상남도</td>\n",
       "    </tr>\n",
       "  </tbody>\n",
       "</table>\n",
       "<p>69 rows × 29 columns</p>\n",
       "</div>"
      ],
      "text/plain": [
       "         시도교육청     지역교육청              지역   정보공시 학교코드       학교명  학교급코드 설립구분  \\\n",
       "10    서울특별시교육청  서울특별시교육청       서울특별시 성북구  S010000377    경동고등학교      4   공립   \n",
       "17    서울특별시교육청  서울특별시교육청      서울특별시 동대문구  S010000384    경희고등학교      4   사립   \n",
       "40    서울특별시교육청  서울특별시교육청      서울특별시 동대문구  S010000407    대광고등학교      4   사립   \n",
       "57    서울특별시교육청  서울특별시교육청       서울특별시 종로구  S010000424    동성고등학교      4   사립   \n",
       "63    서울특별시교육청  서울특별시교육청       서울특별시 중랑구  S010000430    면목고등학교      4   공립   \n",
       "...        ...       ...             ...         ...       ...    ...  ...   \n",
       "2171   경상남도교육청   경상남도교육청        경상남도 김해시  S160000511    김해고등학교      4   공립   \n",
       "2188   경상남도교육청   경상남도교육청  경상남도 창원시 마산합포구  S160000546    마산고등학교      4   공립   \n",
       "2227   경상남도교육청   경상남도교육청        경상남도 양산시  S160000618    양산고등학교      4   공립   \n",
       "2244   경상남도교육청   경상남도교육청        경상남도 진주시  S160000660    진주고등학교      4   공립   \n",
       "2275   경상남도교육청   경상남도교육청    경상남도 창원시 의창구  S160000701  창원중앙고등학교      4   공립   \n",
       "\n",
       "        학교특성 분교여부 설립유형 주야구분     개교기념일       설립일       법정동코드  \\\n",
       "10    자율고등학교    N   단설   주간  19400416  19400416  1129011300   \n",
       "17    자율고등학교    N   병설   주간  19600518  19591212  1123010800   \n",
       "40    자율고등학교    N   단설   주간  19471025  19471125  1123010100   \n",
       "57    자율고등학교    N   단설   주간  19381208  19070910  1111016900   \n",
       "63    자율고등학교    N   단설   주간  19830420  19821130  1126010100   \n",
       "...      ...  ...  ...  ...       ...       ...         ...   \n",
       "2171  자율고등학교    N   단설   주간  19740105  19740105  4825011700   \n",
       "2188  자율고등학교    N   단설   주간  19360411  19360316  4812512800   \n",
       "2227  자율고등학교    N   단설   주간  19390331  19390331  4833010400   \n",
       "2244  자율고등학교    N   단설   주간  19250424  19250424  4817011400   \n",
       "2275  자율고등학교    N   단설   주간  19831230  19831230  4812112800   \n",
       "\n",
       "                    주소내역           상세주소내역    우편번호 학교도로명 우편번호  \\\n",
       "10       서울특별시 성북구 삼선동3가              50.  136043      02870   \n",
       "17        서울특별시 동대문구 회기동  경희대길 47(이문1-3).  130080     130701   \n",
       "40        서울특별시 동대문구 신설동          53-3번지.  130110      02581   \n",
       "57         서울특별시 종로구 혜화동          90-7번지.   03083      03083   \n",
       "63         서울특별시 중랑구 면목동           30번지 .   02193      02193   \n",
       "...                  ...              ...     ...        ...   \n",
       "2171        경상남도 김해시 삼정동          267-34.  621912      50934   \n",
       "2188  경상남도 창원시 마산합포구 완월동            27-3.  631861      51259   \n",
       "2227        경상남도 양산시 북부동             255.  626800      50617   \n",
       "2244        경상남도 진주시 상봉동             987.  660050      52747   \n",
       "2275    경상남도 창원시 의창구 용호동              71.  641041      51437   \n",
       "\n",
       "                     학교도로명 주소       학교도로명 상세주소         위도          경도  \\\n",
       "10        서울특별시 성북구 보문로29길 49  (삼선동3가, 경동고등학교)  37.586200  127.014664   \n",
       "17         서울특별시 동대문구 경희대로 26            (이문동)  37.594912  127.054904   \n",
       "40           서울특별시 동대문구 안암로 6   , 대광고등학교 (신설동)  37.577939  127.024586   \n",
       "57          서울특별시 종로구 대학로 156      (혜화동,동성중고교)  37.584970  127.003098   \n",
       "63    서울특별시 중랑구 용마산로72길 36-14     (면목동,면목고등학교)  37.584781  127.096719   \n",
       "...                       ...              ...        ...         ...   \n",
       "2171      경상남도 김해시 활천로24번길 29    (삼정동, 김해고등학교)  35.231298  128.896636   \n",
       "2188    경상남도 창원시 마산합포구 심온길 33    (완월동, 마산고등학교)  35.200865  128.561723   \n",
       "2227        경상남도 양산시 호국학도병길 2            (북부동)  35.300000  129.000000   \n",
       "2244          경상남도 진주시 의곡길 29    (상봉동, 진주고등학교)  35.201002  128.080802   \n",
       "2275      경상남도 창원시 의창구 용호로 16            (용호동)  35.231740  128.677927   \n",
       "\n",
       "              전화번호          팩스번호                         홈페이지 주소 남녀공학 구분  \\\n",
       "10     02-928-2353   02-926-7525      http://kyungdong.sen.hs.kr       남   \n",
       "17        966-3782   02-962-3643    http://www.kyungheeboy.hs.kr       남   \n",
       "40     02-940-2202   02-926-3197            http://www.dgh.hs.kr       남   \n",
       "57    02-3671-9100   02-765-8239       http://www.dongsung.hs.kr       남   \n",
       "63     02-435-0002   02-435-0774           http://www.mmhs.hs.kr       남   \n",
       "...            ...           ...                             ...     ...   \n",
       "2171  055-335-3306  055-321-1491      http://gimhae-h.gne.go.kr/       남   \n",
       "2188  055-240-3500  055-240-3505        http://masan-h.gne.go.kr       남   \n",
       "2227  055-384-9502  055-384-9501  http://www.yangsan-h.gne.go.kr       남   \n",
       "2244  055-746-2613  055-746-5902       http://jinju-h.gne.go.kr/       남   \n",
       "2275  055-239-3100  055-284-7302    http://cwjungang-h.gne.go.kr       남   \n",
       "\n",
       "                address_split region_scale province  \n",
       "10        [서울특별시, 성북구, 삼선동3가]            시    서울특별시  \n",
       "17         [서울특별시, 동대문구, 회기동]            시    서울특별시  \n",
       "40         [서울특별시, 동대문구, 신설동]            시    서울특별시  \n",
       "57          [서울특별시, 종로구, 혜화동]            시    서울특별시  \n",
       "63          [서울특별시, 중랑구, 면목동]            시    서울특별시  \n",
       "...                       ...          ...      ...  \n",
       "2171         [경상남도, 김해시, 삼정동]            시     경상남도  \n",
       "2188  [경상남도, 창원시, 마산합포구, 완월동]            시     경상남도  \n",
       "2227         [경상남도, 양산시, 북부동]            시     경상남도  \n",
       "2244         [경상남도, 진주시, 상봉동]            시     경상남도  \n",
       "2275    [경상남도, 창원시, 의창구, 용호동]            시     경상남도  \n",
       "\n",
       "[69 rows x 29 columns]"
      ]
     },
     "execution_count": 115,
     "metadata": {},
     "output_type": "execute_result"
    }
   ],
   "source": [
    "raw[(raw['학교특성']=='자율고등학교') & (raw['남녀공학 구분']!='남녀공학')]"
   ]
  },
  {
   "cell_type": "code",
   "execution_count": 15,
   "metadata": {},
   "outputs": [
    {
     "data": {
      "text/plain": [
       "array(['대도시', '시', '읍면 지역'], dtype=object)"
      ]
     },
     "execution_count": 15,
     "metadata": {},
     "output_type": "execute_result"
    }
   ],
   "source": [
    "raw['region_scale'].unique()"
   ]
  },
  {
   "cell_type": "code",
   "execution_count": 16,
   "metadata": {},
   "outputs": [
    {
     "name": "stdout",
     "output_type": "stream",
     "text": [
      "Index(['시도교육청', '지역교육청', '지역', '정보공시 학교코드', '학교명', '학교급코드', '설립구분', '학교특성',\n",
      "       '분교여부', '설립유형', '주야구분', '개교기념일', '설립일', '법정동코드', '주소내역', '상세주소내역',\n",
      "       '우편번호', '학교도로명 우편번호', '학교도로명 주소', '학교도로명 상세주소', '위도', '경도', '전화번호',\n",
      "       '팩스번호', '홈페이지 주소', '남녀공학 구분', 'address_split', 'region_scale',\n",
      "       'province'],\n",
      "      dtype='object')\n"
     ]
    }
   ],
   "source": [
    "print(raw.columns)"
   ]
  },
  {
   "cell_type": "code",
   "execution_count": 17,
   "metadata": {
    "scrolled": true
   },
   "outputs": [
    {
     "data": {
      "text/html": [
       "<div>\n",
       "<style scoped>\n",
       "    .dataframe tbody tr th:only-of-type {\n",
       "        vertical-align: middle;\n",
       "    }\n",
       "\n",
       "    .dataframe tbody tr th {\n",
       "        vertical-align: top;\n",
       "    }\n",
       "\n",
       "    .dataframe thead th {\n",
       "        text-align: right;\n",
       "    }\n",
       "</style>\n",
       "<table border=\"1\" class=\"dataframe\">\n",
       "  <thead>\n",
       "    <tr style=\"text-align: right;\">\n",
       "      <th></th>\n",
       "      <th>학교특성</th>\n",
       "      <th>설립구분</th>\n",
       "      <th>province</th>\n",
       "      <th>남녀공학 구분</th>\n",
       "      <th>정보공시 학교코드</th>\n",
       "    </tr>\n",
       "  </thead>\n",
       "  <tbody>\n",
       "    <tr>\n",
       "      <th>0</th>\n",
       "      <td>일반고등학교</td>\n",
       "      <td>공립</td>\n",
       "      <td>강원도</td>\n",
       "      <td>남</td>\n",
       "      <td>13</td>\n",
       "    </tr>\n",
       "    <tr>\n",
       "      <th>1</th>\n",
       "      <td>일반고등학교</td>\n",
       "      <td>공립</td>\n",
       "      <td>강원도</td>\n",
       "      <td>남녀공학</td>\n",
       "      <td>42</td>\n",
       "    </tr>\n",
       "    <tr>\n",
       "      <th>2</th>\n",
       "      <td>일반고등학교</td>\n",
       "      <td>공립</td>\n",
       "      <td>강원도</td>\n",
       "      <td>녀</td>\n",
       "      <td>13</td>\n",
       "    </tr>\n",
       "    <tr>\n",
       "      <th>3</th>\n",
       "      <td>일반고등학교</td>\n",
       "      <td>공립</td>\n",
       "      <td>경기도</td>\n",
       "      <td>남</td>\n",
       "      <td>9</td>\n",
       "    </tr>\n",
       "    <tr>\n",
       "      <th>4</th>\n",
       "      <td>일반고등학교</td>\n",
       "      <td>공립</td>\n",
       "      <td>경기도</td>\n",
       "      <td>남녀공학</td>\n",
       "      <td>262</td>\n",
       "    </tr>\n",
       "    <tr>\n",
       "      <th>...</th>\n",
       "      <td>...</td>\n",
       "      <td>...</td>\n",
       "      <td>...</td>\n",
       "      <td>...</td>\n",
       "      <td>...</td>\n",
       "    </tr>\n",
       "    <tr>\n",
       "      <th>273</th>\n",
       "      <td>특수목적고등학교</td>\n",
       "      <td>사립</td>\n",
       "      <td>서울특별시</td>\n",
       "      <td>녀</td>\n",
       "      <td>2</td>\n",
       "    </tr>\n",
       "    <tr>\n",
       "      <th>274</th>\n",
       "      <td>특수목적고등학교</td>\n",
       "      <td>사립</td>\n",
       "      <td>울산광역시</td>\n",
       "      <td>남녀공학</td>\n",
       "      <td>2</td>\n",
       "    </tr>\n",
       "    <tr>\n",
       "      <th>275</th>\n",
       "      <td>특수목적고등학교</td>\n",
       "      <td>사립</td>\n",
       "      <td>인천광역시</td>\n",
       "      <td>남녀공학</td>\n",
       "      <td>1</td>\n",
       "    </tr>\n",
       "    <tr>\n",
       "      <th>276</th>\n",
       "      <td>특수목적고등학교</td>\n",
       "      <td>사립</td>\n",
       "      <td>전라남도</td>\n",
       "      <td>남녀공학</td>\n",
       "      <td>1</td>\n",
       "    </tr>\n",
       "    <tr>\n",
       "      <th>277</th>\n",
       "      <td>특수목적고등학교</td>\n",
       "      <td>사립</td>\n",
       "      <td>전라북도</td>\n",
       "      <td>남녀공학</td>\n",
       "      <td>1</td>\n",
       "    </tr>\n",
       "  </tbody>\n",
       "</table>\n",
       "<p>278 rows × 5 columns</p>\n",
       "</div>"
      ],
      "text/plain": [
       "         학교특성 설립구분 province 남녀공학 구분  정보공시 학교코드\n",
       "0      일반고등학교   공립      강원도       남         13\n",
       "1      일반고등학교   공립      강원도    남녀공학         42\n",
       "2      일반고등학교   공립      강원도       녀         13\n",
       "3      일반고등학교   공립      경기도       남          9\n",
       "4      일반고등학교   공립      경기도    남녀공학        262\n",
       "..        ...  ...      ...     ...        ...\n",
       "273  특수목적고등학교   사립    서울특별시       녀          2\n",
       "274  특수목적고등학교   사립    울산광역시    남녀공학          2\n",
       "275  특수목적고등학교   사립    인천광역시    남녀공학          1\n",
       "276  특수목적고등학교   사립     전라남도    남녀공학          1\n",
       "277  특수목적고등학교   사립     전라북도    남녀공학          1\n",
       "\n",
       "[278 rows x 5 columns]"
      ]
     },
     "execution_count": 17,
     "metadata": {},
     "output_type": "execute_result"
    }
   ],
   "source": [
    "# 학교특성, 설립구분, 도, 남녀공학 구분별 학교 수 \n",
    "raw.groupby(['학교특성','설립구분','province','남녀공학 구분'], as_index=False)['정보공시 학교코드'].count()"
   ]
  },
  {
   "cell_type": "code",
   "execution_count": 19,
   "metadata": {
    "scrolled": true
   },
   "outputs": [
    {
     "data": {
      "text/html": [
       "<div>\n",
       "<style scoped>\n",
       "    .dataframe tbody tr th:only-of-type {\n",
       "        vertical-align: middle;\n",
       "    }\n",
       "\n",
       "    .dataframe tbody tr th {\n",
       "        vertical-align: top;\n",
       "    }\n",
       "\n",
       "    .dataframe thead th {\n",
       "        text-align: right;\n",
       "    }\n",
       "</style>\n",
       "<table border=\"1\" class=\"dataframe\">\n",
       "  <thead>\n",
       "    <tr style=\"text-align: right;\">\n",
       "      <th></th>\n",
       "      <th>province</th>\n",
       "      <th>남녀공학 구분</th>\n",
       "      <th>정보공시 학교코드</th>\n",
       "    </tr>\n",
       "  </thead>\n",
       "  <tbody>\n",
       "    <tr>\n",
       "      <th>0</th>\n",
       "      <td>강원도</td>\n",
       "      <td>남</td>\n",
       "      <td>20</td>\n",
       "    </tr>\n",
       "    <tr>\n",
       "      <th>1</th>\n",
       "      <td>강원도</td>\n",
       "      <td>남녀공학</td>\n",
       "      <td>80</td>\n",
       "    </tr>\n",
       "    <tr>\n",
       "      <th>2</th>\n",
       "      <td>강원도</td>\n",
       "      <td>녀</td>\n",
       "      <td>18</td>\n",
       "    </tr>\n",
       "    <tr>\n",
       "      <th>3</th>\n",
       "      <td>경기도</td>\n",
       "      <td>남</td>\n",
       "      <td>21</td>\n",
       "    </tr>\n",
       "    <tr>\n",
       "      <th>4</th>\n",
       "      <td>경기도</td>\n",
       "      <td>남녀공학</td>\n",
       "      <td>428</td>\n",
       "    </tr>\n",
       "    <tr>\n",
       "      <th>...</th>\n",
       "      <td>...</td>\n",
       "      <td>...</td>\n",
       "      <td>...</td>\n",
       "    </tr>\n",
       "    <tr>\n",
       "      <th>46</th>\n",
       "      <td>충청남도</td>\n",
       "      <td>남녀공학</td>\n",
       "      <td>80</td>\n",
       "    </tr>\n",
       "    <tr>\n",
       "      <th>47</th>\n",
       "      <td>충청남도</td>\n",
       "      <td>녀</td>\n",
       "      <td>23</td>\n",
       "    </tr>\n",
       "    <tr>\n",
       "      <th>48</th>\n",
       "      <td>충청북도</td>\n",
       "      <td>남</td>\n",
       "      <td>10</td>\n",
       "    </tr>\n",
       "    <tr>\n",
       "      <th>49</th>\n",
       "      <td>충청북도</td>\n",
       "      <td>남녀공학</td>\n",
       "      <td>62</td>\n",
       "    </tr>\n",
       "    <tr>\n",
       "      <th>50</th>\n",
       "      <td>충청북도</td>\n",
       "      <td>녀</td>\n",
       "      <td>12</td>\n",
       "    </tr>\n",
       "  </tbody>\n",
       "</table>\n",
       "<p>51 rows × 3 columns</p>\n",
       "</div>"
      ],
      "text/plain": [
       "   province 남녀공학 구분  정보공시 학교코드\n",
       "0       강원도       남         20\n",
       "1       강원도    남녀공학         80\n",
       "2       강원도       녀         18\n",
       "3       경기도       남         21\n",
       "4       경기도    남녀공학        428\n",
       "..      ...     ...        ...\n",
       "46     충청남도    남녀공학         80\n",
       "47     충청남도       녀         23\n",
       "48     충청북도       남         10\n",
       "49     충청북도    남녀공학         62\n",
       "50     충청북도       녀         12\n",
       "\n",
       "[51 rows x 3 columns]"
      ]
     },
     "execution_count": 19,
     "metadata": {},
     "output_type": "execute_result"
    }
   ],
   "source": [
    "province_coed = raw.copy()\n",
    "\n",
    "raw.groupby(['province','남녀공학 구분'], as_index=False)['정보공시 학교코드'].count()"
   ]
  },
  {
   "cell_type": "code",
   "execution_count": 20,
   "metadata": {},
   "outputs": [
    {
     "data": {
      "text/plain": [
       "2360"
      ]
     },
     "execution_count": 20,
     "metadata": {},
     "output_type": "execute_result"
    }
   ],
   "source": [
    "len(raw)"
   ]
  },
  {
   "cell_type": "code",
   "execution_count": null,
   "metadata": {},
   "outputs": [],
   "source": []
  },
  {
   "cell_type": "markdown",
   "metadata": {},
   "source": [
    "### 범주형 변수 간 관계\n",
    "개별 data point를 추정하는 건 불가할 것 같고, 좀 더 직접적인 성적 격차의 원인이 되는 것으로 지목된 변수(지역, 국공립 여부)과 독립적인지 의존성이 있는지를 카이제곱 검정으로 확인해보자. "
   ]
  },
  {
   "cell_type": "code",
   "execution_count": 21,
   "metadata": {},
   "outputs": [
    {
     "data": {
      "text/html": [
       "<div>\n",
       "<style scoped>\n",
       "    .dataframe tbody tr th:only-of-type {\n",
       "        vertical-align: middle;\n",
       "    }\n",
       "\n",
       "    .dataframe tbody tr th {\n",
       "        vertical-align: top;\n",
       "    }\n",
       "\n",
       "    .dataframe thead th {\n",
       "        text-align: right;\n",
       "    }\n",
       "</style>\n",
       "<table border=\"1\" class=\"dataframe\">\n",
       "  <thead>\n",
       "    <tr style=\"text-align: right;\">\n",
       "      <th>설립구분</th>\n",
       "      <th>공립</th>\n",
       "      <th>국립</th>\n",
       "      <th>사립</th>\n",
       "    </tr>\n",
       "    <tr>\n",
       "      <th>남녀공학 구분</th>\n",
       "      <th></th>\n",
       "      <th></th>\n",
       "      <th></th>\n",
       "    </tr>\n",
       "  </thead>\n",
       "  <tbody>\n",
       "    <tr>\n",
       "      <th>남</th>\n",
       "      <td>167</td>\n",
       "      <td>1</td>\n",
       "      <td>235</td>\n",
       "    </tr>\n",
       "    <tr>\n",
       "      <th>남녀공학</th>\n",
       "      <td>1079</td>\n",
       "      <td>17</td>\n",
       "      <td>437</td>\n",
       "    </tr>\n",
       "    <tr>\n",
       "      <th>녀</th>\n",
       "      <td>149</td>\n",
       "      <td>0</td>\n",
       "      <td>275</td>\n",
       "    </tr>\n",
       "  </tbody>\n",
       "</table>\n",
       "</div>"
      ],
      "text/plain": [
       "설립구분       공립  국립   사립\n",
       "남녀공학 구분               \n",
       "남         167   1  235\n",
       "남녀공학     1079  17  437\n",
       "녀         149   0  275"
      ]
     },
     "metadata": {},
     "output_type": "display_data"
    },
    {
     "data": {
      "text/plain": [
       "(251.94313304110122,\n",
       " 2.4828487336313305e-53,\n",
       " 4,\n",
       " array([[238.21398305,   3.07372881, 161.71228814],\n",
       "        [906.15889831,  11.69237288, 615.14872881],\n",
       "        [250.62711864,   3.23389831, 170.13898305]]))"
      ]
     },
     "execution_count": 21,
     "metadata": {},
     "output_type": "execute_result"
    }
   ],
   "source": [
    "from scipy.stats import chi2_contingency\n",
    "\n",
    "# 설립주체와 남녀공학 여부의 상관\n",
    "display(pd.crosstab(raw['남녀공학 구분'], raw['설립구분']))\n",
    "\n",
    "chi2_contingency(pd.crosstab(raw['남녀공학 구분'], raw['설립구분']))\n"
   ]
  },
  {
   "cell_type": "code",
   "execution_count": 22,
   "metadata": {},
   "outputs": [
    {
     "data": {
      "text/plain": [
       "'0.000000000000000000000000000000000000000000000000000024828487'"
      ]
     },
     "execution_count": 22,
     "metadata": {},
     "output_type": "execute_result"
    }
   ],
   "source": [
    "a = 2.4828487336313305e-53\n",
    "format(a, '.60f')"
   ]
  },
  {
   "cell_type": "code",
   "execution_count": 23,
   "metadata": {},
   "outputs": [
    {
     "data": {
      "text/html": [
       "<div>\n",
       "<style scoped>\n",
       "    .dataframe tbody tr th:only-of-type {\n",
       "        vertical-align: middle;\n",
       "    }\n",
       "\n",
       "    .dataframe tbody tr th {\n",
       "        vertical-align: top;\n",
       "    }\n",
       "\n",
       "    .dataframe thead th {\n",
       "        text-align: right;\n",
       "    }\n",
       "</style>\n",
       "<table border=\"1\" class=\"dataframe\">\n",
       "  <thead>\n",
       "    <tr style=\"text-align: right;\">\n",
       "      <th>region_scale</th>\n",
       "      <th>대도시</th>\n",
       "      <th>시</th>\n",
       "      <th>읍면 지역</th>\n",
       "    </tr>\n",
       "    <tr>\n",
       "      <th>남녀공학 구분</th>\n",
       "      <th></th>\n",
       "      <th></th>\n",
       "      <th></th>\n",
       "    </tr>\n",
       "  </thead>\n",
       "  <tbody>\n",
       "    <tr>\n",
       "      <th>남</th>\n",
       "      <td>214</td>\n",
       "      <td>149</td>\n",
       "      <td>40</td>\n",
       "    </tr>\n",
       "    <tr>\n",
       "      <th>남녀공학</th>\n",
       "      <td>439</td>\n",
       "      <td>558</td>\n",
       "      <td>536</td>\n",
       "    </tr>\n",
       "    <tr>\n",
       "      <th>녀</th>\n",
       "      <td>212</td>\n",
       "      <td>160</td>\n",
       "      <td>52</td>\n",
       "    </tr>\n",
       "  </tbody>\n",
       "</table>\n",
       "</div>"
      ],
      "text/plain": [
       "region_scale  대도시    시  읍면 지역\n",
       "남녀공학 구분                      \n",
       "남             214  149     40\n",
       "남녀공학          439  558    536\n",
       "녀             212  160     52"
      ]
     },
     "metadata": {},
     "output_type": "display_data"
    },
    {
     "data": {
      "text/plain": [
       "(251.94313304110122,\n",
       " 2.4828487336313305e-53,\n",
       " 4,\n",
       " array([[238.21398305,   3.07372881, 161.71228814],\n",
       "        [906.15889831,  11.69237288, 615.14872881],\n",
       "        [250.62711864,   3.23389831, 170.13898305]]))"
      ]
     },
     "execution_count": 23,
     "metadata": {},
     "output_type": "execute_result"
    }
   ],
   "source": [
    "# 지역규모와 남녀공학 여부의 상관\n",
    "display(pd.crosstab(raw['남녀공학 구분'], raw['region_scale']))\n",
    "\n",
    "chi2_contingency(pd.crosstab(raw['남녀공학 구분'], raw['설립구분']))\n"
   ]
  },
  {
   "cell_type": "code",
   "execution_count": 24,
   "metadata": {},
   "outputs": [
    {
     "data": {
      "text/plain": [
       "'0.000000000000000000000000000000000000000000000000000024828487'"
      ]
     },
     "execution_count": 24,
     "metadata": {},
     "output_type": "execute_result"
    }
   ],
   "source": [
    "b = 2.4828487336313305e-53\n",
    "format(b, '.60f')"
   ]
  },
  {
   "cell_type": "markdown",
   "metadata": {},
   "source": [
    "p-value가 매우 작으므로.. 남녀공학 구분-설립주체, 남녀공학 구분-지역규모 변수가 서로 독립적이라는 귀무가설을 기각"
   ]
  },
  {
   "cell_type": "code",
   "execution_count": null,
   "metadata": {},
   "outputs": [],
   "source": []
  }
 ],
 "metadata": {
  "kernelspec": {
   "display_name": "Python 3",
   "language": "python",
   "name": "python3"
  },
  "language_info": {
   "codemirror_mode": {
    "name": "ipython",
    "version": 3
   },
   "file_extension": ".py",
   "mimetype": "text/x-python",
   "name": "python",
   "nbconvert_exporter": "python",
   "pygments_lexer": "ipython3",
   "version": "3.8.5"
  }
 },
 "nbformat": 4,
 "nbformat_minor": 4
}
